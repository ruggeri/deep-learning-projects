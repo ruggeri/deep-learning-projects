{
 "cells": [
  {
   "cell_type": "code",
   "execution_count": 2,
   "metadata": {
    "collapsed": true
   },
   "outputs": [],
   "source": [
    "import numpy as np\n",
    "\n",
    "np.random.seed(0)\n",
    "\n",
    "NUM_EXAMPLES = 1000\n",
    "training_y = np.random.binomial(1, 0.50, size = NUM_EXAMPLES)\n",
    "training_x = np.random.binomial(1, 0.50, size = (NUM_EXAMPLES, 2))\n",
    "training_x[training_y == 0, 1] = training_x[training_y == 0, 0]\n",
    "training_x[training_y == 1, 1] = np.logical_not(training_x[training_y == 1, 0])"
   ]
  },
  {
   "cell_type": "code",
   "execution_count": 3,
   "metadata": {},
   "outputs": [
    {
     "name": "stdout",
     "output_type": "stream",
     "text": [
      "[[0 0]\n",
      " [0 0]\n",
      " [1 1]\n",
      " [1 1]\n",
      " [0 0]\n",
      " [1 1]\n",
      " [0 0]\n",
      " [0 0]\n",
      " [0 0]\n",
      " [1 1]]\n",
      "[[1 0]\n",
      " [0 1]\n",
      " [0 1]\n",
      " [1 0]\n",
      " [1 0]\n",
      " [0 1]\n",
      " [0 1]\n",
      " [0 1]\n",
      " [1 0]\n",
      " [1 0]]\n"
     ]
    }
   ],
   "source": [
    "# Look at the features of the positive examples and the negative examples.\n",
    "# What do you see?\n",
    "\n",
    "print(\n",
    "    training_x[\n",
    "        training_y == 0\n",
    "    ][:10]\n",
    ")\n",
    "print(\n",
    "    training_x[\n",
    "        training_y == 1\n",
    "    ][:10]\n",
    ")\n"
   ]
  },
  {
   "cell_type": "code",
   "execution_count": 4,
   "metadata": {},
   "outputs": [
    {
     "name": "stdout",
     "output_type": "stream",
     "text": [
      "0.483\n",
      "0.503105590062\n",
      "0.496894409938\n",
      "0.554865424431\n",
      "0.554865424431\n"
     ]
    }
   ],
   "source": [
    "# Print proportion of training_y that are positive.\n",
    "# Print proportion of training_x that are present in each column.\n",
    "# Print proportion of training_x that are present in the positives.\n",
    "# And in the negatives.\n",
    "\n",
    "print(np.sum(training_y) / len(training_y))\n",
    "\n",
    "print(\n",
    "    np.sum(training_x[training_y == 1, 0]) / np.sum(training_y)\n",
    ")\n",
    "print(\n",
    "    np.sum(training_x[training_y == 1, 1]) / np.sum(training_y)\n",
    ")\n",
    "\n",
    "print(\n",
    "    np.sum(training_x[training_y == 0, 0]) / np.sum(training_y)\n",
    ")\n",
    "print(\n",
    "    np.sum(training_x[training_y == 0, 1]) / np.sum(training_y)\n",
    ")\n"
   ]
  },
  {
   "cell_type": "code",
   "execution_count": 6,
   "metadata": {},
   "outputs": [
    {
     "name": "stdout",
     "output_type": "stream",
     "text": [
      "1000/1000 [==============================] - 0s 38us/step\n"
     ]
    },
    {
     "data": {
      "text/plain": [
       "[0.69223528289794922, 0.51700000000000002]"
      ]
     },
     "execution_count": 6,
     "metadata": {},
     "output_type": "execute_result"
    }
   ],
   "source": [
    "from keras.layers import Dense\n",
    "from keras.models import Sequential\n",
    "from keras.optimizers import SGD\n",
    "\n",
    "model = Sequential()\n",
    "model.add(Dense(\n",
    "    1,\n",
    "    activation = 'sigmoid',\n",
    "    input_shape = (2,)\n",
    "))\n",
    "\n",
    "model.compile(\n",
    "    loss = 'binary_crossentropy',\n",
    "    metrics = ['accuracy'],\n",
    "    optimizer = SGD(lr = 0.10)\n",
    ")\n",
    "\n",
    "model.fit(\n",
    "    training_x,\n",
    "    training_y,\n",
    "    epochs = 1000,\n",
    "    batch_size = 1024,\n",
    "    verbose = 0\n",
    ")\n",
    "\n",
    "model.evaluate(training_x, training_y)"
   ]
  },
  {
   "cell_type": "code",
   "execution_count": 7,
   "metadata": {
    "scrolled": true
   },
   "outputs": [
    {
     "name": "stdout",
     "output_type": "stream",
     "text": [
      "1000/1000 [==============================] - 0s 50us/step\n"
     ]
    },
    {
     "data": {
      "text/plain": [
       "[0.00099261833447962999, 1.0]"
      ]
     },
     "execution_count": 7,
     "metadata": {},
     "output_type": "execute_result"
    }
   ],
   "source": [
    "from keras.layers import Dense\n",
    "from keras.models import Sequential\n",
    "from keras.optimizers import SGD\n",
    "from keras.utils import to_categorical\n",
    "\n",
    "model = Sequential()\n",
    "model.add(Dense(\n",
    "    2,\n",
    "    activation = 'sigmoid',\n",
    "    input_shape = (2,),\n",
    "))\n",
    "\n",
    "model.add(Dense(\n",
    "    1,\n",
    "    activation = 'sigmoid',\n",
    "    bias_initializer = 'zeros'\n",
    "))\n",
    "\n",
    "model.compile(\n",
    "    loss = 'binary_crossentropy',\n",
    "    metrics = ['accuracy'],\n",
    "    optimizer = SGD(lr=1.0)\n",
    ")\n",
    "\n",
    "model.fit(\n",
    "    training_x.astype(np.float32),\n",
    "    training_y.astype(np.float32),\n",
    "    epochs = 10000,\n",
    "    batch_size = 1024,\n",
    "    verbose = 0\n",
    ")\n",
    "\n",
    "model.evaluate(training_x, training_y)"
   ]
  },
  {
   "cell_type": "code",
   "execution_count": 6,
   "metadata": {
    "scrolled": true
   },
   "outputs": [
    {
     "data": {
      "image/png": "[encoded data removed]",
      "text/plain": [
       "<matplotlib.figure.Figure at 0x11f6c1f98>"
      ]
     },
     "metadata": {},
     "output_type": "display_data"
    },
    {
     "data": {
      "image/png": "[encoded data removed]",
      "text/plain": [
       "<matplotlib.figure.Figure at 0x11fef5748>"
      ]
     },
     "metadata": {},
     "output_type": "display_data"
    }
   ],
   "source": [
    "%matplotlib inline\n",
    "import matplotlib.pyplot as plt\n",
    "\n",
    "# Use model.layers[0].get_weights() to extract the weights of the first layer of the network.\n",
    "# The weights consist of two parts:\n",
    "# 1. A 2x2 matrix. The first column are the weights used when calculating unit #1.\n",
    "#    The second column are the weights used when calculating unit #2.\n",
    "# 2. A vector of 2 numbers. These are the biases for the two units.\n",
    "#\n",
    "# Do a 2D plot where x and y are the two inputs to the network, and plot a green circle wherever the first\n",
    "# unit is positive, and a red x wherever it is negative.\n",
    "# Do the same with unit #2.\n",
    "\n",
    "weights1 = model.layers[0].get_weights()[0][:, 0]\n",
    "bias1 = model.layers[0].get_weights()[1][0]\n",
    "\n",
    "weights2 = model.layers[0].get_weights()[0][:, 1]\n",
    "bias2 = model.layers[0].get_weights()[1][1]\n",
    "\n",
    "xs = np.arange(-1, 2, 0.1)\n",
    "ys = np.arange(-1, 2, 0.1)\n",
    "\n",
    "def show_graph(bias, weight0, weight1):\n",
    "    positive_xs = []\n",
    "    positive_ys = []\n",
    "    negative_xs = []\n",
    "    negative_ys = []\n",
    "    for x in xs:\n",
    "        for y in ys:\n",
    "            if bias + (x * weight0) + (y * weight1) > 0.0:\n",
    "                positive_xs.append(x)\n",
    "                positive_ys.append(y)\n",
    "            else:\n",
    "                negative_xs.append(x)\n",
    "                negative_ys.append(y)\n",
    "\n",
    "    plt.plot(\n",
    "        positive_xs, \n",
    "        positive_ys,\n",
    "        'o',\n",
    "        color = 'green'\n",
    "    )\n",
    "    plt.plot(\n",
    "        negative_xs, \n",
    "        negative_ys,\n",
    "        'x',\n",
    "        color = 'red'\n",
    "    )\n",
    "\n",
    "show_graph(bias1, weights1[0], weights1[1])\n",
    "plt.figure()\n",
    "show_graph(bias2, weights2[0], weights2[1])"
   ]
  },
  {
   "cell_type": "code",
   "execution_count": 7,
   "metadata": {
    "scrolled": true
   },
   "outputs": [
    {
     "data": {
      "text/plain": [
       "<matplotlib.figure.Figure at 0x11f01fb70>"
      ]
     },
     "execution_count": 7,
     "metadata": {},
     "output_type": "execute_result"
    },
    {
     "data": {
      "image/png": "[encoded data removed]",
      "text/plain": [
       "<matplotlib.figure.Figure at 0x11f352d68>"
      ]
     },
     "metadata": {},
     "output_type": "display_data"
    },
    {
     "data": {
      "text/plain": [
       "<matplotlib.figure.Figure at 0x11f01fb70>"
      ]
     },
     "metadata": {},
     "output_type": "display_data"
    }
   ],
   "source": [
    "# Do the same with the layer 2 weights\n",
    "\n",
    "weights3 = model.layers[1].get_weights()[0]\n",
    "bias3 = model.layers[1].get_weights()[1][0]\n",
    "\n",
    "show_graph(bias3, weights3[0], weights3[1])\n",
    "plt.figure()\n"
   ]
  },
  {
   "cell_type": "code",
   "execution_count": 8,
   "metadata": {
    "collapsed": true
   },
   "outputs": [],
   "source": [
    "# Write down the truth statements corresponding to each graph.\n",
    "# Graph1: x and not y\n",
    "# Graph2: not(not x and y)\n",
    "# Graph3: not(G1 and not G2)\n",
    "# >> not((x and not y) and (not x and y))\n",
    "# >> (x and not y) or (y and not x)\n"
   ]
  },
  {
   "cell_type": "code",
   "execution_count": 9,
   "metadata": {
    "scrolled": true
   },
   "outputs": [
    {
     "data": {
      "image/png": "[encoded data removed]",
      "text/plain": [
       "<matplotlib.figure.Figure at 0x1200686d8>"
      ]
     },
     "metadata": {},
     "output_type": "display_data"
    }
   ],
   "source": [
    "# A single logistic regression node can only learn a *linear* decision boundary. Use `model.predict`\n",
    "# to show where the positive and negative examples are.\n",
    "#\n",
    "# Neural networks can learn non-linear decision boundaries.\n",
    "#\n",
    "# This means they can learn about \"interaction effects.\"\n",
    "\n",
    "def show_graph():\n",
    "    positive_xs = []\n",
    "    positive_ys = []\n",
    "    negative_xs = []\n",
    "    negative_ys = []\n",
    "    for x in xs:\n",
    "        for y in ys:\n",
    "            if model.predict(np.array([[x, y]])) > 0.50:\n",
    "                positive_xs.append(x)\n",
    "                positive_ys.append(y)\n",
    "            else:\n",
    "                negative_xs.append(x)\n",
    "                negative_ys.append(y)\n",
    "\n",
    "    plt.plot(\n",
    "        positive_xs, \n",
    "        positive_ys,\n",
    "        'o',\n",
    "        color = 'green'\n",
    "    )\n",
    "    plt.plot(\n",
    "        negative_xs, \n",
    "        negative_ys,\n",
    "        'x',\n",
    "        color = 'red'\n",
    "    )\n",
    "\n",
    "show_graph()"
   ]
  },
  {
   "cell_type": "code",
   "execution_count": null,
   "metadata": {
    "collapsed": true
   },
   "outputs": [],
   "source": []
  }
 ],
 "metadata": {
  "kernelspec": {
   "display_name": "Python (default)",
   "language": "python",
   "name": "conda-default"
  },
  "language_info": {
   "codemirror_mode": {
    "name": "ipython",
    "version": 3
   },
   "file_extension": ".py",
   "mimetype": "text/x-python",
   "name": "python",
   "nbconvert_exporter": "python",
   "pygments_lexer": "ipython3",
   "version": "3.6.0"
  }
 },
 "nbformat": 4,
 "nbformat_minor": 2
}
