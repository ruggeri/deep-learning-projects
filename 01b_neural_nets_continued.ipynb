{
 "cells": [
  {
   "cell_type": "code",
   "execution_count": 35,
   "metadata": {},
   "outputs": [
    {
     "name": "stdout",
     "output_type": "stream",
     "text": [
      "515\n",
      "485\n"
     ]
    }
   ],
   "source": [
    "import numpy as np\n",
    "\n",
    "NUM_EXAMPLES = 1000\n",
    "NUM_MIDDLE_FEATURES = 10\n",
    "NUM_FEATURES = 20\n",
    "\n",
    "training_y = np.random.binomial(1, 0.50, NUM_EXAMPLES)\n",
    "\n",
    "middle_log_odds_matrix = np.random.normal(\n",
    "    size = (2, NUM_MIDDLE_FEATURES)\n",
    ")\n",
    "\n",
    "middle_x_odds = np.zeros((NUM_EXAMPLES, NUM_MIDDLE_FEATURES))\n",
    "middle_x_odds[training_y == 0, :] = middle_log_odds_matrix[0]\n",
    "middle_x_odds[training_y == 1, :] = middle_log_odds_matrix[1]\n",
    "middle_x_probs = 1 / (1 + np.exp(-middle_x_odds))\n",
    "middle_x = np.random.binomial(1, middle_x_probs, (NUM_EXAMPLES, NUM_MIDDLE_FEATURES))\n",
    "\n",
    "training_x = np.random.binomial(1, 0.50, (NUM_EXAMPLES, NUM_FEATURES))\n",
    "\n",
    "NUM_POSITIVES = np.sum(training_y == 1)\n",
    "NUM_NEGATIVES = np.sum(training_y == 0)\n",
    "\n",
    "training_x[training_y == 0, 10:] = (\n",
    "    0\n",
    "    +\n",
    "    training_x[training_y == 0, :10]\n",
    ") % 2\n",
    "training_x[training_y == 1, 10:] = (\n",
    "    1\n",
    "    +\n",
    "    training_x[training_y == 1, :10]\n",
    ") % 2\n",
    "\n",
    "print(NUM_POSITIVES)\n",
    "print(NUM_NEGATIVES)\n",
    "\n",
    "# final_log_odds_matrix = np.random.uniform(1, 0.50, NUM_EXAMPLES)"
   ]
  },
  {
   "cell_type": "code",
   "execution_count": 36,
   "metadata": {},
   "outputs": [],
   "source": [
    "# Write InputNode and LogisticNode\n",
    "\n",
    "class InputNode:\n",
    "    def __init__(self):\n",
    "        self._successors = []\n",
    "\n",
    "    def set_value(self, value):\n",
    "        self._value = value\n",
    "        \n",
    "    def value(self):\n",
    "        return self._value\n",
    "\n",
    "class LogisticNode:\n",
    "    def __init__(self):\n",
    "        self._inputs = []\n",
    "        self._successors = []\n",
    "        self._weights = []\n",
    "        self._bias = np.random.normal()\n",
    "\n",
    "    def add_input(self, prior_node):\n",
    "        prior_node._successors.append(self)\n",
    "        self._inputs.append(prior_node)\n",
    "        self._weights.append(np.random.normal())\n",
    "    \n",
    "    def value(self):\n",
    "        value = self._bias\n",
    "        for idx, ipt in enumerate(self._inputs):\n",
    "            value += self._weights[idx] * ipt.value()\n",
    "        \n",
    "        return 1 / (1 + np.exp(-value))\n",
    "    \n",
    "    def randomize_weights(self):\n",
    "        self._weights = [\n",
    "            np.random.uniform(low = -.125, high = +0.125)\n",
    "            for\n",
    "            _ in self._weights\n",
    "        ]\n",
    "\n",
    "class OutputNode(LogisticNode):\n",
    "    pass\n",
    "\n"
   ]
  },
  {
   "cell_type": "code",
   "execution_count": 37,
   "metadata": {
    "collapsed": true
   },
   "outputs": [],
   "source": [
    "def deriv_wrt_activation(self, label):\n",
    "    prediction = self.value()\n",
    "    if label == 0:\n",
    "        return 1 / (1 - prediction)\n",
    "    else:\n",
    "        return -1 / prediction\n",
    "\n",
    "OutputNode.deriv_wrt_activation = deriv_wrt_activation\n",
    "\n",
    "def deriv_wrt_activation(self, label):\n",
    "    idx = self._successors[0]._inputs.index(self)\n",
    "    return (\n",
    "        self._successors[0]._weights[idx]\n",
    "        *\n",
    "        self._successors[0].deriv_wrt_zvalue(label)\n",
    "    )\n",
    "\n",
    "def deriv_wrt_zvalue(self, label):\n",
    "    return (\n",
    "        self.deriv_wrt_activation(label)\n",
    "        *\n",
    "        (self.value() * (1 - self.value()))\n",
    "    )\n",
    "\n",
    "def deriv_wrt_weights(self, label):\n",
    "    deriv_wrt_zvalue = self.deriv_wrt_zvalue(label)\n",
    "    return [\n",
    "        deriv_wrt_zvalue * self._inputs[idx].value()\n",
    "        for\n",
    "        idx, weights in enumerate(self._weights)\n",
    "    ]\n",
    "\n",
    "LogisticNode.deriv_wrt_activation = deriv_wrt_activation\n",
    "LogisticNode.deriv_wrt_zvalue = deriv_wrt_zvalue\n",
    "LogisticNode.deriv_wrt_weights = deriv_wrt_weights\n"
   ]
  },
  {
   "cell_type": "code",
   "execution_count": 48,
   "metadata": {},
   "outputs": [
    {
     "name": "stdout",
     "output_type": "stream",
     "text": [
      "Epoch 1/5\n",
      "1000/1000 [==============================] - 2s 2ms/step - loss: 0.4883 - acc: 0.7430\n",
      "Epoch 2/5\n",
      "1000/1000 [==============================] - 1s 1ms/step - loss: 0.0788 - acc: 0.9780\n",
      "Epoch 3/5\n",
      "1000/1000 [==============================] - 1s 1ms/step - loss: 0.0599 - acc: 0.9820\n",
      "Epoch 4/5\n",
      "1000/1000 [==============================] - 1s 1ms/step - loss: 0.0287 - acc: 0.9940\n",
      "Epoch 5/5\n",
      "1000/1000 [==============================] - 1s 1ms/step - loss: 0.4074 - acc: 0.8860\n"
     ]
    },
    {
     "data": {
      "text/plain": [
       "<keras.callbacks.History at 0x11c13ea20>"
      ]
     },
     "execution_count": 48,
     "metadata": {},
     "output_type": "execute_result"
    }
   ],
   "source": [
    "# Have them do SGD with batch size of 1 vs 1024 to see the difference.\n",
    "\n",
    "from keras.layers import Dense\n",
    "from keras.models import Sequential\n",
    "from keras.optimizers import SGD\n",
    "\n",
    "model = Sequential()\n",
    "model.add(Dense(\n",
    "    NUM_MIDDLE_FEATURES,\n",
    "    activation = 'sigmoid',\n",
    "    input_shape = (NUM_FEATURES,)\n",
    "))\n",
    "model.add(Dense(\n",
    "    1,\n",
    "    activation = 'sigmoid',\n",
    "    input_shape = (NUM_FEATURES,)\n",
    "))\n",
    "\n",
    "model.compile(\n",
    "    loss = 'binary_crossentropy',\n",
    "    metrics = ['accuracy'],\n",
    "    optimizer = SGD(lr = 1.0)\n",
    ")\n",
    "\n",
    "model.fit(\n",
    "    training_x,\n",
    "    training_y,\n",
    "    epochs = 5,\n",
    "    batch_size = 1,\n",
    "    verbose = 1\n",
    ")"
   ]
  },
  {
   "cell_type": "code",
   "execution_count": 49,
   "metadata": {
    "collapsed": true
   },
   "outputs": [],
   "source": [
    "LEARNING_RATE = 1.00\n",
    "\n",
    "def train_example(x, y, input_nodes, logistic_nodes):\n",
    "    for idx in range(NUM_FEATURES):\n",
    "        input_nodes[idx].set_value(x[idx])\n",
    "\n",
    "    node_derivs = []\n",
    "    for lr_node in logistic_nodes:\n",
    "        node_derivs.append(\n",
    "            lr_node.deriv_wrt_weights(y)\n",
    "        )\n",
    "\n",
    "    return node_derivs\n",
    "\n",
    "def train_dataset(training_x, training_y, input_nodes, logistic_nodes):\n",
    "    for idx in range(NUM_EXAMPLES):\n",
    "        x = training_x[idx, :]\n",
    "        y = training_y[idx]\n",
    "        node_derivs = train_example(x, y, input_nodes, logistic_nodes)\n",
    "        for node_idx, node_deriv in enumerate(node_derivs):\n",
    "            for weight_idx, deriv in enumerate(node_deriv):\n",
    "                logistic_nodes[node_idx]._weights[weight_idx] -= (\n",
    "                    LEARNING_RATE * deriv / NUM_EXAMPLES\n",
    "                )\n"
   ]
  },
  {
   "cell_type": "code",
   "execution_count": 50,
   "metadata": {},
   "outputs": [],
   "source": [
    "input_nodes = []\n",
    "for _ in range(NUM_FEATURES):\n",
    "    input_nodes.append(InputNode())\n",
    "\n",
    "logistic_nodes = []\n",
    "for _ in range(4):\n",
    "    lr_node = LogisticNode()\n",
    "    for ipt_node in input_nodes:\n",
    "        lr_node.add_input(ipt_node)\n",
    "    logistic_nodes.append(lr_node)\n",
    "\n",
    "output_node = OutputNode()\n",
    "for lr_node in logistic_nodes:\n",
    "    output_node.add_input(lr_node)\n",
    "logistic_nodes.append(output_node)\n",
    "\n",
    "# input_nodes = []\n",
    "# for _ in range(NUM_FEATURES):\n",
    "#     input_nodes.append(InputNode())\n",
    "\n",
    "# logistic_nodes = []\n",
    "\n",
    "# output_node = OutputNode()\n",
    "# for input_node in input_nodes:\n",
    "#     output_node.add_input(input_node)\n",
    "# logistic_nodes.append(output_node)\n"
   ]
  },
  {
   "cell_type": "code",
   "execution_count": 51,
   "metadata": {},
   "outputs": [
    {
     "data": {
      "text/plain": [
       "0.515"
      ]
     },
     "execution_count": 51,
     "metadata": {},
     "output_type": "execute_result"
    }
   ],
   "source": [
    "def predict(x, input_nodes, output_node):\n",
    "    for idx in range(NUM_FEATURES):\n",
    "        input_nodes[idx].set_value(x[idx])\n",
    "    return output_node.value()\n",
    "\n",
    "def classify(x, input_nodes, output_node):\n",
    "    if predict(x, input_nodes, output_node) > 0.50:\n",
    "        return 1\n",
    "    else:\n",
    "        return 0\n",
    "\n",
    "def accuracy(training_x, training_y, input_nodes, output_node):\n",
    "    num_correct = 0\n",
    "    for idx in range(NUM_EXAMPLES):\n",
    "        predicted_class = classify(training_x[idx, :], input_nodes, output_node)\n",
    "        if predicted_class == training_y[idx]:\n",
    "            num_correct += 1\n",
    "    return num_correct / NUM_EXAMPLES\n",
    "\n",
    "accuracy(training_x, training_y, input_nodes, output_node)\n",
    "    "
   ]
  },
  {
   "cell_type": "code",
   "execution_count": 54,
   "metadata": {},
   "outputs": [
    {
     "name": "stdout",
     "output_type": "stream",
     "text": [
      "[-0.032529248671876065, -0.07979917705240139, -0.00019327249228467958, -0.02018625511053837, 0.08613315290993487, -0.012331011238479656, -0.07325468806907173, 0.09828197595356883, -0.07219191143361614, 0.01377994067625582, 0.06918819109814964, -0.1171010949176435, 0.10022885919182692, -0.03128634908350872, -0.08909180848249548, 0.0778585047352218, 0.027564688567319168, -0.12146862096266209, -0.03206121273944118, -0.047313172860915076]\n",
      "0\n",
      "0.485\n",
      "1\n",
      "0.517\n",
      "2\n",
      "0.576\n",
      "3\n",
      "0.639\n",
      "4\n",
      "0.601\n",
      "5\n",
      "0.74\n",
      "6\n",
      "0.886\n",
      "7\n",
      "0.905\n",
      "8\n",
      "0.935\n",
      "9\n",
      "0.964\n",
      "10\n",
      "0.98\n",
      "11\n",
      "0.991\n"
     ]
    },
    {
     "ename": "KeyboardInterrupt",
     "evalue": "",
     "output_type": "error",
     "traceback": [
      "\u001b[0;31m---------------------------------------------------------------------------\u001b[0m",
      "\u001b[0;31mKeyboardInterrupt\u001b[0m                         Traceback (most recent call last)",
      "\u001b[0;32m<ipython-input-54-0f3a516f0a76>\u001b[0m in \u001b[0;36m<module>\u001b[0;34m()\u001b[0m\n\u001b[1;32m      7\u001b[0m \u001b[0;34m\u001b[0m\u001b[0m\n\u001b[1;32m      8\u001b[0m \u001b[0;32mfor\u001b[0m \u001b[0midx\u001b[0m \u001b[0;32min\u001b[0m \u001b[0mrange\u001b[0m\u001b[0;34m(\u001b[0m\u001b[0;36m100\u001b[0m\u001b[0;34m)\u001b[0m\u001b[0;34m:\u001b[0m\u001b[0;34m\u001b[0m\u001b[0m\n\u001b[0;32m----> 9\u001b[0;31m     \u001b[0mtrain_dataset\u001b[0m\u001b[0;34m(\u001b[0m\u001b[0mtraining_x\u001b[0m\u001b[0;34m,\u001b[0m \u001b[0mtraining_y\u001b[0m\u001b[0;34m,\u001b[0m \u001b[0minput_nodes\u001b[0m\u001b[0;34m,\u001b[0m \u001b[0mlogistic_nodes\u001b[0m\u001b[0;34m)\u001b[0m\u001b[0;34m\u001b[0m\u001b[0m\n\u001b[0m\u001b[1;32m     10\u001b[0m     \u001b[0mprint\u001b[0m\u001b[0;34m(\u001b[0m\u001b[0midx\u001b[0m\u001b[0;34m)\u001b[0m\u001b[0;34m\u001b[0m\u001b[0m\n\u001b[1;32m     11\u001b[0m     print(\n",
      "\u001b[0;32m<ipython-input-49-88b17bd76567>\u001b[0m in \u001b[0;36mtrain_dataset\u001b[0;34m(training_x, training_y, input_nodes, logistic_nodes)\u001b[0m\n\u001b[1;32m     17\u001b[0m         \u001b[0mx\u001b[0m \u001b[0;34m=\u001b[0m \u001b[0mtraining_x\u001b[0m\u001b[0;34m[\u001b[0m\u001b[0midx\u001b[0m\u001b[0;34m,\u001b[0m \u001b[0;34m:\u001b[0m\u001b[0;34m]\u001b[0m\u001b[0;34m\u001b[0m\u001b[0m\n\u001b[1;32m     18\u001b[0m         \u001b[0my\u001b[0m \u001b[0;34m=\u001b[0m \u001b[0mtraining_y\u001b[0m\u001b[0;34m[\u001b[0m\u001b[0midx\u001b[0m\u001b[0;34m]\u001b[0m\u001b[0;34m\u001b[0m\u001b[0m\n\u001b[0;32m---> 19\u001b[0;31m         \u001b[0mnode_derivs\u001b[0m \u001b[0;34m=\u001b[0m \u001b[0mtrain_example\u001b[0m\u001b[0;34m(\u001b[0m\u001b[0mx\u001b[0m\u001b[0;34m,\u001b[0m \u001b[0my\u001b[0m\u001b[0;34m,\u001b[0m \u001b[0minput_nodes\u001b[0m\u001b[0;34m,\u001b[0m \u001b[0mlogistic_nodes\u001b[0m\u001b[0;34m)\u001b[0m\u001b[0;34m\u001b[0m\u001b[0m\n\u001b[0m\u001b[1;32m     20\u001b[0m         \u001b[0;32mfor\u001b[0m \u001b[0mnode_idx\u001b[0m\u001b[0;34m,\u001b[0m \u001b[0mnode_deriv\u001b[0m \u001b[0;32min\u001b[0m \u001b[0menumerate\u001b[0m\u001b[0;34m(\u001b[0m\u001b[0mnode_derivs\u001b[0m\u001b[0;34m)\u001b[0m\u001b[0;34m:\u001b[0m\u001b[0;34m\u001b[0m\u001b[0m\n\u001b[1;32m     21\u001b[0m             \u001b[0;32mfor\u001b[0m \u001b[0mweight_idx\u001b[0m\u001b[0;34m,\u001b[0m \u001b[0mderiv\u001b[0m \u001b[0;32min\u001b[0m \u001b[0menumerate\u001b[0m\u001b[0;34m(\u001b[0m\u001b[0mnode_deriv\u001b[0m\u001b[0;34m)\u001b[0m\u001b[0;34m:\u001b[0m\u001b[0;34m\u001b[0m\u001b[0m\n",
      "\u001b[0;32m<ipython-input-49-88b17bd76567>\u001b[0m in \u001b[0;36mtrain_example\u001b[0;34m(x, y, input_nodes, logistic_nodes)\u001b[0m\n\u001b[1;32m      8\u001b[0m     \u001b[0;32mfor\u001b[0m \u001b[0mlr_node\u001b[0m \u001b[0;32min\u001b[0m \u001b[0mlogistic_nodes\u001b[0m\u001b[0;34m:\u001b[0m\u001b[0;34m\u001b[0m\u001b[0m\n\u001b[1;32m      9\u001b[0m         node_derivs.append(\n\u001b[0;32m---> 10\u001b[0;31m             \u001b[0mlr_node\u001b[0m\u001b[0;34m.\u001b[0m\u001b[0mderiv_wrt_weights\u001b[0m\u001b[0;34m(\u001b[0m\u001b[0my\u001b[0m\u001b[0;34m)\u001b[0m\u001b[0;34m\u001b[0m\u001b[0m\n\u001b[0m\u001b[1;32m     11\u001b[0m         )\n\u001b[1;32m     12\u001b[0m \u001b[0;34m\u001b[0m\u001b[0m\n",
      "\u001b[0;32m<ipython-input-37-f83f75786d04>\u001b[0m in \u001b[0;36mderiv_wrt_weights\u001b[0;34m(self, label)\u001b[0m\n\u001b[1;32m     24\u001b[0m \u001b[0;34m\u001b[0m\u001b[0m\n\u001b[1;32m     25\u001b[0m \u001b[0;32mdef\u001b[0m \u001b[0mderiv_wrt_weights\u001b[0m\u001b[0;34m(\u001b[0m\u001b[0mself\u001b[0m\u001b[0;34m,\u001b[0m \u001b[0mlabel\u001b[0m\u001b[0;34m)\u001b[0m\u001b[0;34m:\u001b[0m\u001b[0;34m\u001b[0m\u001b[0m\n\u001b[0;32m---> 26\u001b[0;31m     \u001b[0mderiv_wrt_zvalue\u001b[0m \u001b[0;34m=\u001b[0m \u001b[0mself\u001b[0m\u001b[0;34m.\u001b[0m\u001b[0mderiv_wrt_zvalue\u001b[0m\u001b[0;34m(\u001b[0m\u001b[0mlabel\u001b[0m\u001b[0;34m)\u001b[0m\u001b[0;34m\u001b[0m\u001b[0m\n\u001b[0m\u001b[1;32m     27\u001b[0m     return [\n\u001b[1;32m     28\u001b[0m         \u001b[0mderiv_wrt_zvalue\u001b[0m \u001b[0;34m*\u001b[0m \u001b[0mself\u001b[0m\u001b[0;34m.\u001b[0m\u001b[0m_inputs\u001b[0m\u001b[0;34m[\u001b[0m\u001b[0midx\u001b[0m\u001b[0;34m]\u001b[0m\u001b[0;34m.\u001b[0m\u001b[0mvalue\u001b[0m\u001b[0;34m(\u001b[0m\u001b[0;34m)\u001b[0m\u001b[0;34m\u001b[0m\u001b[0m\n",
      "\u001b[0;32m<ipython-input-37-f83f75786d04>\u001b[0m in \u001b[0;36mderiv_wrt_zvalue\u001b[0;34m(self, label)\u001b[0m\n\u001b[1;32m     18\u001b[0m \u001b[0;32mdef\u001b[0m \u001b[0mderiv_wrt_zvalue\u001b[0m\u001b[0;34m(\u001b[0m\u001b[0mself\u001b[0m\u001b[0;34m,\u001b[0m \u001b[0mlabel\u001b[0m\u001b[0;34m)\u001b[0m\u001b[0;34m:\u001b[0m\u001b[0;34m\u001b[0m\u001b[0m\n\u001b[1;32m     19\u001b[0m     return (\n\u001b[0;32m---> 20\u001b[0;31m         \u001b[0mself\u001b[0m\u001b[0;34m.\u001b[0m\u001b[0mderiv_wrt_activation\u001b[0m\u001b[0;34m(\u001b[0m\u001b[0mlabel\u001b[0m\u001b[0;34m)\u001b[0m\u001b[0;34m\u001b[0m\u001b[0m\n\u001b[0m\u001b[1;32m     21\u001b[0m         \u001b[0;34m*\u001b[0m\u001b[0;34m\u001b[0m\u001b[0m\n\u001b[1;32m     22\u001b[0m         \u001b[0;34m(\u001b[0m\u001b[0mself\u001b[0m\u001b[0;34m.\u001b[0m\u001b[0mvalue\u001b[0m\u001b[0;34m(\u001b[0m\u001b[0;34m)\u001b[0m \u001b[0;34m*\u001b[0m \u001b[0;34m(\u001b[0m\u001b[0;36m1\u001b[0m \u001b[0;34m-\u001b[0m \u001b[0mself\u001b[0m\u001b[0;34m.\u001b[0m\u001b[0mvalue\u001b[0m\u001b[0;34m(\u001b[0m\u001b[0;34m)\u001b[0m\u001b[0;34m)\u001b[0m\u001b[0;34m)\u001b[0m\u001b[0;34m\u001b[0m\u001b[0m\n",
      "\u001b[0;32m<ipython-input-37-f83f75786d04>\u001b[0m in \u001b[0;36mderiv_wrt_activation\u001b[0;34m(self, label)\u001b[0m\n\u001b[1;32m     13\u001b[0m         \u001b[0mself\u001b[0m\u001b[0;34m.\u001b[0m\u001b[0m_successors\u001b[0m\u001b[0;34m[\u001b[0m\u001b[0;36m0\u001b[0m\u001b[0;34m]\u001b[0m\u001b[0;34m.\u001b[0m\u001b[0m_weights\u001b[0m\u001b[0;34m[\u001b[0m\u001b[0midx\u001b[0m\u001b[0;34m]\u001b[0m\u001b[0;34m\u001b[0m\u001b[0m\n\u001b[1;32m     14\u001b[0m         \u001b[0;34m*\u001b[0m\u001b[0;34m\u001b[0m\u001b[0m\n\u001b[0;32m---> 15\u001b[0;31m         \u001b[0mself\u001b[0m\u001b[0;34m.\u001b[0m\u001b[0m_successors\u001b[0m\u001b[0;34m[\u001b[0m\u001b[0;36m0\u001b[0m\u001b[0;34m]\u001b[0m\u001b[0;34m.\u001b[0m\u001b[0mderiv_wrt_zvalue\u001b[0m\u001b[0;34m(\u001b[0m\u001b[0mlabel\u001b[0m\u001b[0;34m)\u001b[0m\u001b[0;34m\u001b[0m\u001b[0m\n\u001b[0m\u001b[1;32m     16\u001b[0m     )\n\u001b[1;32m     17\u001b[0m \u001b[0;34m\u001b[0m\u001b[0m\n",
      "\u001b[0;32m<ipython-input-37-f83f75786d04>\u001b[0m in \u001b[0;36mderiv_wrt_zvalue\u001b[0;34m(self, label)\u001b[0m\n\u001b[1;32m     18\u001b[0m \u001b[0;32mdef\u001b[0m \u001b[0mderiv_wrt_zvalue\u001b[0m\u001b[0;34m(\u001b[0m\u001b[0mself\u001b[0m\u001b[0;34m,\u001b[0m \u001b[0mlabel\u001b[0m\u001b[0;34m)\u001b[0m\u001b[0;34m:\u001b[0m\u001b[0;34m\u001b[0m\u001b[0m\n\u001b[1;32m     19\u001b[0m     return (\n\u001b[0;32m---> 20\u001b[0;31m         \u001b[0mself\u001b[0m\u001b[0;34m.\u001b[0m\u001b[0mderiv_wrt_activation\u001b[0m\u001b[0;34m(\u001b[0m\u001b[0mlabel\u001b[0m\u001b[0;34m)\u001b[0m\u001b[0;34m\u001b[0m\u001b[0m\n\u001b[0m\u001b[1;32m     21\u001b[0m         \u001b[0;34m*\u001b[0m\u001b[0;34m\u001b[0m\u001b[0m\n\u001b[1;32m     22\u001b[0m         \u001b[0;34m(\u001b[0m\u001b[0mself\u001b[0m\u001b[0;34m.\u001b[0m\u001b[0mvalue\u001b[0m\u001b[0;34m(\u001b[0m\u001b[0;34m)\u001b[0m \u001b[0;34m*\u001b[0m \u001b[0;34m(\u001b[0m\u001b[0;36m1\u001b[0m \u001b[0;34m-\u001b[0m \u001b[0mself\u001b[0m\u001b[0;34m.\u001b[0m\u001b[0mvalue\u001b[0m\u001b[0;34m(\u001b[0m\u001b[0;34m)\u001b[0m\u001b[0;34m)\u001b[0m\u001b[0;34m)\u001b[0m\u001b[0;34m\u001b[0m\u001b[0m\n",
      "\u001b[0;32m<ipython-input-37-f83f75786d04>\u001b[0m in \u001b[0;36mderiv_wrt_activation\u001b[0;34m(self, label)\u001b[0m\n\u001b[1;32m      1\u001b[0m \u001b[0;32mdef\u001b[0m \u001b[0mderiv_wrt_activation\u001b[0m\u001b[0;34m(\u001b[0m\u001b[0mself\u001b[0m\u001b[0;34m,\u001b[0m \u001b[0mlabel\u001b[0m\u001b[0;34m)\u001b[0m\u001b[0;34m:\u001b[0m\u001b[0;34m\u001b[0m\u001b[0m\n\u001b[0;32m----> 2\u001b[0;31m     \u001b[0mprediction\u001b[0m \u001b[0;34m=\u001b[0m \u001b[0mself\u001b[0m\u001b[0;34m.\u001b[0m\u001b[0mvalue\u001b[0m\u001b[0;34m(\u001b[0m\u001b[0;34m)\u001b[0m\u001b[0;34m\u001b[0m\u001b[0m\n\u001b[0m\u001b[1;32m      3\u001b[0m     \u001b[0;32mif\u001b[0m \u001b[0mlabel\u001b[0m \u001b[0;34m==\u001b[0m \u001b[0;36m0\u001b[0m\u001b[0;34m:\u001b[0m\u001b[0;34m\u001b[0m\u001b[0m\n\u001b[1;32m      4\u001b[0m         \u001b[0;32mreturn\u001b[0m \u001b[0;36m1\u001b[0m \u001b[0;34m/\u001b[0m \u001b[0;34m(\u001b[0m\u001b[0;36m1\u001b[0m \u001b[0;34m-\u001b[0m \u001b[0mprediction\u001b[0m\u001b[0;34m)\u001b[0m\u001b[0;34m\u001b[0m\u001b[0m\n\u001b[1;32m      5\u001b[0m     \u001b[0;32melse\u001b[0m\u001b[0;34m:\u001b[0m\u001b[0;34m\u001b[0m\u001b[0m\n",
      "\u001b[0;32m<ipython-input-36-e8847a654ddb>\u001b[0m in \u001b[0;36mvalue\u001b[0;34m(self)\u001b[0m\n\u001b[1;32m     26\u001b[0m         \u001b[0mvalue\u001b[0m \u001b[0;34m=\u001b[0m \u001b[0mself\u001b[0m\u001b[0;34m.\u001b[0m\u001b[0m_bias\u001b[0m\u001b[0;34m\u001b[0m\u001b[0m\n\u001b[1;32m     27\u001b[0m         \u001b[0;32mfor\u001b[0m \u001b[0midx\u001b[0m\u001b[0;34m,\u001b[0m \u001b[0mipt\u001b[0m \u001b[0;32min\u001b[0m \u001b[0menumerate\u001b[0m\u001b[0;34m(\u001b[0m\u001b[0mself\u001b[0m\u001b[0;34m.\u001b[0m\u001b[0m_inputs\u001b[0m\u001b[0;34m)\u001b[0m\u001b[0;34m:\u001b[0m\u001b[0;34m\u001b[0m\u001b[0m\n\u001b[0;32m---> 28\u001b[0;31m             \u001b[0mvalue\u001b[0m \u001b[0;34m+=\u001b[0m \u001b[0mself\u001b[0m\u001b[0;34m.\u001b[0m\u001b[0m_weights\u001b[0m\u001b[0;34m[\u001b[0m\u001b[0midx\u001b[0m\u001b[0;34m]\u001b[0m \u001b[0;34m*\u001b[0m \u001b[0mipt\u001b[0m\u001b[0;34m.\u001b[0m\u001b[0mvalue\u001b[0m\u001b[0;34m(\u001b[0m\u001b[0;34m)\u001b[0m\u001b[0;34m\u001b[0m\u001b[0m\n\u001b[0m\u001b[1;32m     29\u001b[0m \u001b[0;34m\u001b[0m\u001b[0m\n\u001b[1;32m     30\u001b[0m         \u001b[0;32mreturn\u001b[0m \u001b[0;36m1\u001b[0m \u001b[0;34m/\u001b[0m \u001b[0;34m(\u001b[0m\u001b[0;36m1\u001b[0m \u001b[0;34m+\u001b[0m \u001b[0mnp\u001b[0m\u001b[0;34m.\u001b[0m\u001b[0mexp\u001b[0m\u001b[0;34m(\u001b[0m\u001b[0;34m-\u001b[0m\u001b[0mvalue\u001b[0m\u001b[0;34m)\u001b[0m\u001b[0;34m)\u001b[0m\u001b[0;34m\u001b[0m\u001b[0m\n",
      "\u001b[0;32m<ipython-input-36-e8847a654ddb>\u001b[0m in \u001b[0;36mvalue\u001b[0;34m(self)\u001b[0m\n\u001b[1;32m     26\u001b[0m         \u001b[0mvalue\u001b[0m \u001b[0;34m=\u001b[0m \u001b[0mself\u001b[0m\u001b[0;34m.\u001b[0m\u001b[0m_bias\u001b[0m\u001b[0;34m\u001b[0m\u001b[0m\n\u001b[1;32m     27\u001b[0m         \u001b[0;32mfor\u001b[0m \u001b[0midx\u001b[0m\u001b[0;34m,\u001b[0m \u001b[0mipt\u001b[0m \u001b[0;32min\u001b[0m \u001b[0menumerate\u001b[0m\u001b[0;34m(\u001b[0m\u001b[0mself\u001b[0m\u001b[0;34m.\u001b[0m\u001b[0m_inputs\u001b[0m\u001b[0;34m)\u001b[0m\u001b[0;34m:\u001b[0m\u001b[0;34m\u001b[0m\u001b[0m\n\u001b[0;32m---> 28\u001b[0;31m             \u001b[0mvalue\u001b[0m \u001b[0;34m+=\u001b[0m \u001b[0mself\u001b[0m\u001b[0;34m.\u001b[0m\u001b[0m_weights\u001b[0m\u001b[0;34m[\u001b[0m\u001b[0midx\u001b[0m\u001b[0;34m]\u001b[0m \u001b[0;34m*\u001b[0m \u001b[0mipt\u001b[0m\u001b[0;34m.\u001b[0m\u001b[0mvalue\u001b[0m\u001b[0;34m(\u001b[0m\u001b[0;34m)\u001b[0m\u001b[0;34m\u001b[0m\u001b[0m\n\u001b[0m\u001b[1;32m     29\u001b[0m \u001b[0;34m\u001b[0m\u001b[0m\n\u001b[1;32m     30\u001b[0m         \u001b[0;32mreturn\u001b[0m \u001b[0;36m1\u001b[0m \u001b[0;34m/\u001b[0m \u001b[0;34m(\u001b[0m\u001b[0;36m1\u001b[0m \u001b[0;34m+\u001b[0m \u001b[0mnp\u001b[0m\u001b[0;34m.\u001b[0m\u001b[0mexp\u001b[0m\u001b[0;34m(\u001b[0m\u001b[0;34m-\u001b[0m\u001b[0mvalue\u001b[0m\u001b[0;34m)\u001b[0m\u001b[0;34m)\u001b[0m\u001b[0;34m\u001b[0m\u001b[0m\n",
      "\u001b[0;31mKeyboardInterrupt\u001b[0m: "
     ]
    }
   ],
   "source": [
    "LEARNING_RATE = 100.0\n",
    "\n",
    "np.seterr(divide = 'raise')\n",
    "\n",
    "for lr_node in logistic_nodes: lr_node.randomize_weights()\n",
    "print(logistic_nodes[0]._weights)\n",
    "\n",
    "for idx in range(100):\n",
    "    train_dataset(training_x, training_y, input_nodes, logistic_nodes)\n",
    "    print(idx)\n",
    "    print(\n",
    "        accuracy(training_x, training_y, input_nodes, output_node)\n",
    "    )"
   ]
  },
  {
   "cell_type": "code",
   "execution_count": null,
   "metadata": {
    "collapsed": true
   },
   "outputs": [],
   "source": []
  }
 ],
 "metadata": {
  "kernelspec": {
   "display_name": "Python (default)",
   "language": "python",
   "name": "conda-default"
  },
  "language_info": {
   "codemirror_mode": {
    "name": "ipython",
    "version": 3
   },
   "file_extension": ".py",
   "mimetype": "text/x-python",
   "name": "python",
   "nbconvert_exporter": "python",
   "pygments_lexer": "ipython3",
   "version": "3.6.0"
  }
 },
 "nbformat": 4,
 "nbformat_minor": 2
}
